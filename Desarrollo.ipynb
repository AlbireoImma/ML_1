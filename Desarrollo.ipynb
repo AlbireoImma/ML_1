{
 "cells": [
  {
   "cell_type": "code",
   "execution_count": 1,
   "metadata": {},
   "outputs": [],
   "source": [
    "# Librerias que usa el notebook\n",
    "import pandas as pd\n",
    "import numpy as np\n",
    "import matplotlib.pyplot as plt\n",
    "import seaborn as sns"
   ]
  },
  {
   "cell_type": "markdown",
   "metadata": {},
   "source": [
    "## Tratamiento de datos\n",
    "\n",
    "Obtenemos los datos del dataset _heart.dat_, del cual modificaremos algunos valores para tener una comprensión mejor de sus elementos"
   ]
  },
  {
   "cell_type": "code",
   "execution_count": 18,
   "metadata": {},
   "outputs": [],
   "source": [
    "headers = ['age','sex','chest_pain','blood_p','serum','blood_s',\n",
    "           'electro','max_heart', 'angina','oldpeak','slope',\n",
    "           'vessel','thal','normal']\n",
    "df = pd.read_csv(\"heart.dat\",  header=None, names=headers, sep=' ')\n",
    "# Categorizacion\n",
    "pd.options.mode.chained_assignment = None  # default='warn'\n",
    "df['sex'][df['sex'] == 0] = 'female'\n",
    "df['sex'][df['sex'] == 1] = 'male'\n",
    "df['chest_pain'][df['chest_pain'] == 1] = 'typical angina'\n",
    "df['chest_pain'][df['chest_pain'] == 2] = 'atypical angina'\n",
    "df['chest_pain'][df['chest_pain'] == 3] = 'non-anginal pain'\n",
    "df['chest_pain'][df['chest_pain'] == 4] = 'asymptomatic'\n",
    "df['blood_s'][df['blood_s'] == 0] = 'lower than 120mg/ml'\n",
    "df['blood_s'][df['blood_s'] == 1] = 'greater than 120mg/ml'\n",
    "df['electro'][df['electro'] == 0] = 'normal'\n",
    "df['electro'][df['electro'] == 1] = 'ST-T wave abnormality'\n",
    "df['electro'][df['electro'] == 2] = 'left ventricular hypertrophy'\n",
    "df['angina'][df['angina'] == 0] = 'no'\n",
    "df['angina'][df['angina'] == 1] = 'yes'\n",
    "df['slope'][df['slope'] == 1] = 'upsloping'\n",
    "df['slope'][df['slope'] == 2] = 'flat'\n",
    "df['slope'][df['slope'] == 3] = 'downsloping'\n",
    "df['thal'][df['thal'] == 3] = 'normal'\n",
    "df['thal'][df['thal'] == 6] = 'fixed defect'\n",
    "df['thal'][df['thal'] == 7] = 'reversable defect'"
   ]
  },
  {
   "cell_type": "markdown",
   "metadata": {},
   "source": [
    "## Visualizacion de los datos\n",
    "\n",
    "Primero veremos un par de entradas dentro del dataset para notar nuestras variables y de que tipo son"
   ]
  },
  {
   "cell_type": "code",
   "execution_count": 3,
   "metadata": {},
   "outputs": [
    {
     "data": {
      "text/html": [
       "<div>\n",
       "<style scoped>\n",
       "    .dataframe tbody tr th:only-of-type {\n",
       "        vertical-align: middle;\n",
       "    }\n",
       "\n",
       "    .dataframe tbody tr th {\n",
       "        vertical-align: top;\n",
       "    }\n",
       "\n",
       "    .dataframe thead th {\n",
       "        text-align: right;\n",
       "    }\n",
       "</style>\n",
       "<table border=\"1\" class=\"dataframe\">\n",
       "  <thead>\n",
       "    <tr style=\"text-align: right;\">\n",
       "      <th></th>\n",
       "      <th>age</th>\n",
       "      <th>sex</th>\n",
       "      <th>chest_pain</th>\n",
       "      <th>blood_p</th>\n",
       "      <th>serum</th>\n",
       "      <th>blood_s</th>\n",
       "      <th>electro</th>\n",
       "      <th>max_heart</th>\n",
       "      <th>angina</th>\n",
       "      <th>oldpeak</th>\n",
       "      <th>slope</th>\n",
       "      <th>vessel</th>\n",
       "      <th>thal</th>\n",
       "      <th>normal</th>\n",
       "    </tr>\n",
       "  </thead>\n",
       "  <tbody>\n",
       "    <tr>\n",
       "      <th>0</th>\n",
       "      <td>70.0</td>\n",
       "      <td>male</td>\n",
       "      <td>asymptomatic</td>\n",
       "      <td>130.0</td>\n",
       "      <td>322.0</td>\n",
       "      <td>lower than 120mg/ml</td>\n",
       "      <td>left ventricular hypertrophy</td>\n",
       "      <td>109.0</td>\n",
       "      <td>no</td>\n",
       "      <td>2.4</td>\n",
       "      <td>flat</td>\n",
       "      <td>3.0</td>\n",
       "      <td>normal</td>\n",
       "      <td>2</td>\n",
       "    </tr>\n",
       "    <tr>\n",
       "      <th>1</th>\n",
       "      <td>67.0</td>\n",
       "      <td>female</td>\n",
       "      <td>non-anginal pain</td>\n",
       "      <td>115.0</td>\n",
       "      <td>564.0</td>\n",
       "      <td>lower than 120mg/ml</td>\n",
       "      <td>left ventricular hypertrophy</td>\n",
       "      <td>160.0</td>\n",
       "      <td>no</td>\n",
       "      <td>1.6</td>\n",
       "      <td>flat</td>\n",
       "      <td>0.0</td>\n",
       "      <td>reversable defect</td>\n",
       "      <td>1</td>\n",
       "    </tr>\n",
       "    <tr>\n",
       "      <th>2</th>\n",
       "      <td>57.0</td>\n",
       "      <td>male</td>\n",
       "      <td>atypical angina</td>\n",
       "      <td>124.0</td>\n",
       "      <td>261.0</td>\n",
       "      <td>lower than 120mg/ml</td>\n",
       "      <td>normal</td>\n",
       "      <td>141.0</td>\n",
       "      <td>no</td>\n",
       "      <td>0.3</td>\n",
       "      <td>upsloping</td>\n",
       "      <td>0.0</td>\n",
       "      <td>reversable defect</td>\n",
       "      <td>2</td>\n",
       "    </tr>\n",
       "    <tr>\n",
       "      <th>3</th>\n",
       "      <td>64.0</td>\n",
       "      <td>male</td>\n",
       "      <td>asymptomatic</td>\n",
       "      <td>128.0</td>\n",
       "      <td>263.0</td>\n",
       "      <td>lower than 120mg/ml</td>\n",
       "      <td>normal</td>\n",
       "      <td>105.0</td>\n",
       "      <td>yes</td>\n",
       "      <td>0.2</td>\n",
       "      <td>flat</td>\n",
       "      <td>1.0</td>\n",
       "      <td>reversable defect</td>\n",
       "      <td>1</td>\n",
       "    </tr>\n",
       "    <tr>\n",
       "      <th>4</th>\n",
       "      <td>74.0</td>\n",
       "      <td>female</td>\n",
       "      <td>atypical angina</td>\n",
       "      <td>120.0</td>\n",
       "      <td>269.0</td>\n",
       "      <td>lower than 120mg/ml</td>\n",
       "      <td>left ventricular hypertrophy</td>\n",
       "      <td>121.0</td>\n",
       "      <td>yes</td>\n",
       "      <td>0.2</td>\n",
       "      <td>upsloping</td>\n",
       "      <td>1.0</td>\n",
       "      <td>normal</td>\n",
       "      <td>1</td>\n",
       "    </tr>\n",
       "  </tbody>\n",
       "</table>\n",
       "</div>"
      ],
      "text/plain": [
       "    age     sex        chest_pain  blood_p  serum              blood_s  \\\n",
       "0  70.0    male      asymptomatic    130.0  322.0  lower than 120mg/ml   \n",
       "1  67.0  female  non-anginal pain    115.0  564.0  lower than 120mg/ml   \n",
       "2  57.0    male   atypical angina    124.0  261.0  lower than 120mg/ml   \n",
       "3  64.0    male      asymptomatic    128.0  263.0  lower than 120mg/ml   \n",
       "4  74.0  female   atypical angina    120.0  269.0  lower than 120mg/ml   \n",
       "\n",
       "                        electro  max_heart angina  oldpeak      slope  vessel  \\\n",
       "0  left ventricular hypertrophy      109.0     no      2.4       flat     3.0   \n",
       "1  left ventricular hypertrophy      160.0     no      1.6       flat     0.0   \n",
       "2                        normal      141.0     no      0.3  upsloping     0.0   \n",
       "3                        normal      105.0    yes      0.2       flat     1.0   \n",
       "4  left ventricular hypertrophy      121.0    yes      0.2  upsloping     1.0   \n",
       "\n",
       "                thal  normal  \n",
       "0             normal       2  \n",
       "1  reversable defect       1  \n",
       "2  reversable defect       2  \n",
       "3  reversable defect       1  \n",
       "4             normal       1  "
      ]
     },
     "execution_count": 3,
     "metadata": {},
     "output_type": "execute_result"
    }
   ],
   "source": [
    "df.head()"
   ]
  },
  {
   "cell_type": "markdown",
   "metadata": {},
   "source": [
    "Además solicitamos la información del dataframe para saber de forma más exacta su contenido (del cual sabemos los tipos exactos de las variables, cuantas son y cuantas entradas totales tenemos)"
   ]
  },
  {
   "cell_type": "code",
   "execution_count": 4,
   "metadata": {},
   "outputs": [
    {
     "name": "stdout",
     "output_type": "stream",
     "text": [
      "<class 'pandas.core.frame.DataFrame'>\n",
      "RangeIndex: 270 entries, 0 to 269\n",
      "Data columns (total 14 columns):\n",
      "age           270 non-null float64\n",
      "sex           270 non-null object\n",
      "chest_pain    270 non-null object\n",
      "blood_p       270 non-null float64\n",
      "serum         270 non-null float64\n",
      "blood_s       270 non-null object\n",
      "electro       270 non-null object\n",
      "max_heart     270 non-null float64\n",
      "angina        270 non-null object\n",
      "oldpeak       270 non-null float64\n",
      "slope         270 non-null object\n",
      "vessel        270 non-null float64\n",
      "thal          270 non-null object\n",
      "normal        270 non-null int64\n",
      "dtypes: float64(6), int64(1), object(7)\n",
      "memory usage: 29.6+ KB\n"
     ]
    }
   ],
   "source": [
    "df.info(verbose=True)"
   ]
  },
  {
   "cell_type": "markdown",
   "metadata": {},
   "source": [
    "En resumen, nuestro dataframe tiene 14 elementos, donde el último es la variable que deseamos predecir\n",
    "\n",
    "Dentro de las **variable reales** tenemos:\n",
    "- **age**: Edad del individuo\n",
    "- **blood_p**: Presión sanguínea en descanso\n",
    "- **serum**: Colesterol sérico\n",
    "- **max_heart**: Ritmo ardíaco máximo obtenido\n",
    "- **oldpeak**: Depresión inducida por ejercicio en un electrocardiograma\n",
    "- **vessel**: Número de vasos mayores (0-3) coloreados en procedimiento\n",
    "- **normal**: Absencia (1) o presencia (2) de enfermedad relativa al corazón [Variable a predecir]\n",
    "\n",
    "Dentro de las **variables ordenadas**:\n",
    "- **slope**: Pendiente en el ejercicio realizado en el electrocardiograma\n",
    "\n",
    "Dentro de las **variables binarias**:\n",
    "- **sex**: Sexo del individuo\n",
    "- **blood_s**: Si el azúcar en la sangre es mayor a 120mg/dl\n",
    "- **angina**: Si hay angina (dolor localizado) producida por ejercicio\n",
    "\n",
    "Dentro de las **variables nominales**:\n",
    "- **electro**: Resultado del electricardiograma (0,1,2)\n",
    "- **chest_pain**: Tipo de dolor en el pecho (4 tipos)\n",
    "- **thal**: Indicador de talasemia (enfermedades hemolíticas), 3 = normal, 6 = defecto fijo, 7 = defecto reversible"
   ]
  },
  {
   "cell_type": "markdown",
   "metadata": {},
   "source": [
    "A continuación obtenemos información sobre la distribución de las variables numéricas"
   ]
  },
  {
   "cell_type": "code",
   "execution_count": 5,
   "metadata": {},
   "outputs": [
    {
     "data": {
      "text/html": [
       "<div>\n",
       "<style scoped>\n",
       "    .dataframe tbody tr th:only-of-type {\n",
       "        vertical-align: middle;\n",
       "    }\n",
       "\n",
       "    .dataframe tbody tr th {\n",
       "        vertical-align: top;\n",
       "    }\n",
       "\n",
       "    .dataframe thead th {\n",
       "        text-align: right;\n",
       "    }\n",
       "</style>\n",
       "<table border=\"1\" class=\"dataframe\">\n",
       "  <thead>\n",
       "    <tr style=\"text-align: right;\">\n",
       "      <th></th>\n",
       "      <th>age</th>\n",
       "      <th>blood_p</th>\n",
       "      <th>serum</th>\n",
       "      <th>max_heart</th>\n",
       "      <th>oldpeak</th>\n",
       "      <th>vessel</th>\n",
       "      <th>normal</th>\n",
       "    </tr>\n",
       "  </thead>\n",
       "  <tbody>\n",
       "    <tr>\n",
       "      <th>count</th>\n",
       "      <td>270.000000</td>\n",
       "      <td>270.000000</td>\n",
       "      <td>270.000000</td>\n",
       "      <td>270.000000</td>\n",
       "      <td>270.00000</td>\n",
       "      <td>270.000000</td>\n",
       "      <td>270.000000</td>\n",
       "    </tr>\n",
       "    <tr>\n",
       "      <th>mean</th>\n",
       "      <td>54.433333</td>\n",
       "      <td>131.344444</td>\n",
       "      <td>249.659259</td>\n",
       "      <td>149.677778</td>\n",
       "      <td>1.05000</td>\n",
       "      <td>0.670370</td>\n",
       "      <td>1.444444</td>\n",
       "    </tr>\n",
       "    <tr>\n",
       "      <th>std</th>\n",
       "      <td>9.109067</td>\n",
       "      <td>17.861608</td>\n",
       "      <td>51.686237</td>\n",
       "      <td>23.165717</td>\n",
       "      <td>1.14521</td>\n",
       "      <td>0.943896</td>\n",
       "      <td>0.497827</td>\n",
       "    </tr>\n",
       "    <tr>\n",
       "      <th>min</th>\n",
       "      <td>29.000000</td>\n",
       "      <td>94.000000</td>\n",
       "      <td>126.000000</td>\n",
       "      <td>71.000000</td>\n",
       "      <td>0.00000</td>\n",
       "      <td>0.000000</td>\n",
       "      <td>1.000000</td>\n",
       "    </tr>\n",
       "    <tr>\n",
       "      <th>25%</th>\n",
       "      <td>48.000000</td>\n",
       "      <td>120.000000</td>\n",
       "      <td>213.000000</td>\n",
       "      <td>133.000000</td>\n",
       "      <td>0.00000</td>\n",
       "      <td>0.000000</td>\n",
       "      <td>1.000000</td>\n",
       "    </tr>\n",
       "    <tr>\n",
       "      <th>50%</th>\n",
       "      <td>55.000000</td>\n",
       "      <td>130.000000</td>\n",
       "      <td>245.000000</td>\n",
       "      <td>153.500000</td>\n",
       "      <td>0.80000</td>\n",
       "      <td>0.000000</td>\n",
       "      <td>1.000000</td>\n",
       "    </tr>\n",
       "    <tr>\n",
       "      <th>75%</th>\n",
       "      <td>61.000000</td>\n",
       "      <td>140.000000</td>\n",
       "      <td>280.000000</td>\n",
       "      <td>166.000000</td>\n",
       "      <td>1.60000</td>\n",
       "      <td>1.000000</td>\n",
       "      <td>2.000000</td>\n",
       "    </tr>\n",
       "    <tr>\n",
       "      <th>max</th>\n",
       "      <td>77.000000</td>\n",
       "      <td>200.000000</td>\n",
       "      <td>564.000000</td>\n",
       "      <td>202.000000</td>\n",
       "      <td>6.20000</td>\n",
       "      <td>3.000000</td>\n",
       "      <td>2.000000</td>\n",
       "    </tr>\n",
       "  </tbody>\n",
       "</table>\n",
       "</div>"
      ],
      "text/plain": [
       "              age     blood_p       serum   max_heart    oldpeak      vessel  \\\n",
       "count  270.000000  270.000000  270.000000  270.000000  270.00000  270.000000   \n",
       "mean    54.433333  131.344444  249.659259  149.677778    1.05000    0.670370   \n",
       "std      9.109067   17.861608   51.686237   23.165717    1.14521    0.943896   \n",
       "min     29.000000   94.000000  126.000000   71.000000    0.00000    0.000000   \n",
       "25%     48.000000  120.000000  213.000000  133.000000    0.00000    0.000000   \n",
       "50%     55.000000  130.000000  245.000000  153.500000    0.80000    0.000000   \n",
       "75%     61.000000  140.000000  280.000000  166.000000    1.60000    1.000000   \n",
       "max     77.000000  200.000000  564.000000  202.000000    6.20000    3.000000   \n",
       "\n",
       "           normal  \n",
       "count  270.000000  \n",
       "mean     1.444444  \n",
       "std      0.497827  \n",
       "min      1.000000  \n",
       "25%      1.000000  \n",
       "50%      1.000000  \n",
       "75%      2.000000  \n",
       "max      2.000000  "
      ]
     },
     "execution_count": 5,
     "metadata": {},
     "output_type": "execute_result"
    }
   ],
   "source": [
    "df.describe()"
   ]
  },
  {
   "cell_type": "markdown",
   "metadata": {},
   "source": [
    "Con esta tabla podemos ver los valores de las variables que tiene valores númericos y sus rangos, además de media y desviación estándar, a continuación evaluamos las variables con valores nominales"
   ]
  },
  {
   "cell_type": "code",
   "execution_count": 6,
   "metadata": {},
   "outputs": [
    {
     "data": {
      "text/html": [
       "<div>\n",
       "<style scoped>\n",
       "    .dataframe tbody tr th:only-of-type {\n",
       "        vertical-align: middle;\n",
       "    }\n",
       "\n",
       "    .dataframe tbody tr th {\n",
       "        vertical-align: top;\n",
       "    }\n",
       "\n",
       "    .dataframe thead th {\n",
       "        text-align: right;\n",
       "    }\n",
       "</style>\n",
       "<table border=\"1\" class=\"dataframe\">\n",
       "  <thead>\n",
       "    <tr style=\"text-align: right;\">\n",
       "      <th></th>\n",
       "      <th>sex</th>\n",
       "      <th>chest_pain</th>\n",
       "      <th>blood_s</th>\n",
       "      <th>electro</th>\n",
       "      <th>angina</th>\n",
       "      <th>slope</th>\n",
       "      <th>thal</th>\n",
       "    </tr>\n",
       "  </thead>\n",
       "  <tbody>\n",
       "    <tr>\n",
       "      <th>count</th>\n",
       "      <td>270</td>\n",
       "      <td>270</td>\n",
       "      <td>270</td>\n",
       "      <td>270</td>\n",
       "      <td>270</td>\n",
       "      <td>270</td>\n",
       "      <td>270</td>\n",
       "    </tr>\n",
       "    <tr>\n",
       "      <th>unique</th>\n",
       "      <td>2</td>\n",
       "      <td>4</td>\n",
       "      <td>2</td>\n",
       "      <td>3</td>\n",
       "      <td>2</td>\n",
       "      <td>3</td>\n",
       "      <td>3</td>\n",
       "    </tr>\n",
       "    <tr>\n",
       "      <th>top</th>\n",
       "      <td>male</td>\n",
       "      <td>asymptomatic</td>\n",
       "      <td>lower than 120mg/ml</td>\n",
       "      <td>left ventricular hypertrophy</td>\n",
       "      <td>no</td>\n",
       "      <td>upsloping</td>\n",
       "      <td>normal</td>\n",
       "    </tr>\n",
       "    <tr>\n",
       "      <th>freq</th>\n",
       "      <td>183</td>\n",
       "      <td>129</td>\n",
       "      <td>230</td>\n",
       "      <td>137</td>\n",
       "      <td>181</td>\n",
       "      <td>130</td>\n",
       "      <td>152</td>\n",
       "    </tr>\n",
       "  </tbody>\n",
       "</table>\n",
       "</div>"
      ],
      "text/plain": [
       "         sex    chest_pain              blood_s                       electro  \\\n",
       "count    270           270                  270                           270   \n",
       "unique     2             4                    2                             3   \n",
       "top     male  asymptomatic  lower than 120mg/ml  left ventricular hypertrophy   \n",
       "freq     183           129                  230                           137   \n",
       "\n",
       "       angina      slope    thal  \n",
       "count     270        270     270  \n",
       "unique      2          3       3  \n",
       "top        no  upsloping  normal  \n",
       "freq      181        130     152  "
      ]
     },
     "execution_count": 6,
     "metadata": {},
     "output_type": "execute_result"
    }
   ],
   "source": [
    "df.describe(include=['object'])"
   ]
  },
  {
   "cell_type": "markdown",
   "metadata": {},
   "source": [
    "Con esta tabla podemos ver los datos nominales representados, su frecuencia y cuantas categorías tiene cada variable\n",
    "\n",
    "### Pacientes sanos y enfermos\n",
    "\n",
    "Primero debemos obtener los conjuntos de pacientes enfermos y sanos, los cuales se identifican con la variable **normal**"
   ]
  },
  {
   "cell_type": "code",
   "execution_count": 7,
   "metadata": {},
   "outputs": [],
   "source": [
    "sanos = df[df['normal'] == 1]\n",
    "enf = df[df['normal'] == 2]"
   ]
  },
  {
   "cell_type": "markdown",
   "metadata": {},
   "source": [
    "#### Presión sanguínea,  azúcar en la sangre y ritmo cardíaco entre pacientes sanos y enfermos\n",
    "\n",
    "Con el gráfico de ayuda podemos notar que las personas enfermas tienden a tener la presión más elevada (desde 140 hacia arriba), en cuanto a la métrica de azúcar en la sangre no podemos concluir demasiado, y sobre el ritmo cardíaco podemos decir que, si este es elevado, es más probable que el paciente este sano"
   ]
  },
  {
   "cell_type": "code",
   "execution_count": 8,
   "metadata": {},
   "outputs": [
    {
     "data": {
      "image/png": "[encoded data removed]",
      "text/plain": [
       "<Figure size 432x288 with 1 Axes>"
      ]
     },
     "metadata": {
      "needs_background": "light"
     },
     "output_type": "display_data"
    },
    {
     "data": {
      "image/png": "[encoded data removed]",
      "text/plain": [
       "<Figure size 432x288 with 1 Axes>"
      ]
     },
     "metadata": {
      "needs_background": "light"
     },
     "output_type": "display_data"
    },
    {
     "data": {
      "image/png": "[encoded data removed]",
      "text/plain": [
       "<Figure size 432x288 with 1 Axes>"
      ]
     },
     "metadata": {
      "needs_background": "light"
     },
     "output_type": "display_data"
    }
   ],
   "source": [
    "p_s = list(sanos['blood_p'])\n",
    "p_e = list(enf['blood_p'])\n",
    "a_s = list(sanos['blood_s'])\n",
    "a_e = list(enf['blood_s'])\n",
    "r_s = list(sanos['max_heart'])\n",
    "r_e = list(enf['max_heart'])\n",
    "col = [\"darkgreen\",\"red\"]\n",
    "lab = [\"sano\",\"enfermo\"]\n",
    "plt.hist([p_s,p_e],color=col,label=lab,density=True)\n",
    "plt.xlabel(\"Presión Sanguínea\")\n",
    "plt.ylabel(\"Densidad\")\n",
    "plt.title(\"Presión en enfermos y sanos\")\n",
    "plt.legend()\n",
    "plt.show()\n",
    "plt.hist([a_s,a_e],color=col,label=lab,density=True)\n",
    "plt.xlabel(\"Azúcar en la sangre\")\n",
    "plt.ylabel(\"Densidad\")\n",
    "plt.title(\"Azúcar en enfermos y sanos\")\n",
    "plt.legend()\n",
    "plt.show()\n",
    "plt.hist([r_s,r_e],color=col,label=lab,density=True)\n",
    "plt.xlabel(\"Ritmo cardíaco\")\n",
    "plt.ylabel(\"Densidad\")\n",
    "plt.title(\"Ritmo cardíaco en enfermos y sanos\")\n",
    "plt.legend()\n",
    "plt.show()"
   ]
  },
  {
   "cell_type": "markdown",
   "metadata": {},
   "source": [
    "### Diferencias de enfermedad entre los sexos\n",
    "\n",
    "Una métrica que puede ser importante, es el hecho del sexo del paciente, según nuestro gráfico la densidad de enfermos hombres es mucho mayor que las mujeres enfermas, en el caso de ser un paciente sano no podemos decir nada con certeza"
   ]
  },
  {
   "cell_type": "code",
   "execution_count": 9,
   "metadata": {},
   "outputs": [
    {
     "data": {
      "image/png": "[encoded data removed]",
      "text/plain": [
       "<Figure size 432x288 with 1 Axes>"
      ]
     },
     "metadata": {
      "needs_background": "light"
     },
     "output_type": "display_data"
    }
   ],
   "source": [
    "p_s = list(sanos['sex'])\n",
    "p_e = list(enf['sex'])\n",
    "col = [\"darkgreen\",\"red\"]\n",
    "lab = [\"sano\",\"enfermo\"]\n",
    "plt.hist([p_s,p_e],color=col,label=lab,density=True)\n",
    "plt.xlabel(\"Sexo\")\n",
    "plt.ylabel(\"Densidad\")\n",
    "plt.title(\"Sexo de pacientes según enfermedad\")\n",
    "plt.legend()\n",
    "plt.show()"
   ]
  },
  {
   "cell_type": "markdown",
   "metadata": {},
   "source": [
    "### Diferencias de enfermedad dada condición de talasemia\n",
    "\n",
    "Esta métrica sirve de contraste, ya que si la talasemia es normal"
   ]
  },
  {
   "cell_type": "code",
   "execution_count": 10,
   "metadata": {},
   "outputs": [
    {
     "data": {
      "image/png": "[encoded data removed]",
      "text/plain": [
       "<Figure size 432x288 with 1 Axes>"
      ]
     },
     "metadata": {
      "needs_background": "light"
     },
     "output_type": "display_data"
    }
   ],
   "source": [
    "p_s = list(sanos['thal'])\n",
    "p_e = list(enf['thal'])\n",
    "col = [\"darkgreen\",\"red\"]\n",
    "lab = [\"sano\",\"enfermo\"]\n",
    "plt.hist([p_s,p_e],color=col,label=lab,density=True)\n",
    "plt.xlabel(\"Talasemia\")\n",
    "plt.ylabel(\"Densidad\")\n",
    "plt.title(\"Talasemia según enfermedad\")\n",
    "plt.legend()\n",
    "plt.show()"
   ]
  },
  {
   "cell_type": "markdown",
   "metadata": {},
   "source": [
    "## One hot encoding\n",
    "\n",
    "En este proceso, nuestras variables categóricas las binarizamos, según la cantidad de valores nominales que pueda obtener esta variable, este es importante ya que los modelos pueden interpretar ciertos valores categóricos más importantes que otros afectando el resultado de los modelos.\n",
    "Al terminar nuestra binarización pasamos de 14 variables a 26"
   ]
  },
  {
   "cell_type": "code",
   "execution_count": 19,
   "metadata": {},
   "outputs": [
    {
     "data": {
      "text/html": [
       "<div>\n",
       "<style scoped>\n",
       "    .dataframe tbody tr th:only-of-type {\n",
       "        vertical-align: middle;\n",
       "    }\n",
       "\n",
       "    .dataframe tbody tr th {\n",
       "        vertical-align: top;\n",
       "    }\n",
       "\n",
       "    .dataframe thead th {\n",
       "        text-align: right;\n",
       "    }\n",
       "</style>\n",
       "<table border=\"1\" class=\"dataframe\">\n",
       "  <thead>\n",
       "    <tr style=\"text-align: right;\">\n",
       "      <th></th>\n",
       "      <th>age</th>\n",
       "      <th>blood_p</th>\n",
       "      <th>serum</th>\n",
       "      <th>max_heart</th>\n",
       "      <th>oldpeak</th>\n",
       "      <th>vessel</th>\n",
       "      <th>normal</th>\n",
       "      <th>sex_female</th>\n",
       "      <th>sex_male</th>\n",
       "      <th>chest_pain_asymptomatic</th>\n",
       "      <th>...</th>\n",
       "      <th>electro_left ventricular hypertrophy</th>\n",
       "      <th>electro_normal</th>\n",
       "      <th>angina_no</th>\n",
       "      <th>angina_yes</th>\n",
       "      <th>slope_downsloping</th>\n",
       "      <th>slope_flat</th>\n",
       "      <th>slope_upsloping</th>\n",
       "      <th>thal_fixed defect</th>\n",
       "      <th>thal_normal</th>\n",
       "      <th>thal_reversable defect</th>\n",
       "    </tr>\n",
       "  </thead>\n",
       "  <tbody>\n",
       "    <tr>\n",
       "      <th>0</th>\n",
       "      <td>70.0</td>\n",
       "      <td>130.0</td>\n",
       "      <td>322.0</td>\n",
       "      <td>109.0</td>\n",
       "      <td>2.4</td>\n",
       "      <td>3.0</td>\n",
       "      <td>2</td>\n",
       "      <td>0</td>\n",
       "      <td>1</td>\n",
       "      <td>1</td>\n",
       "      <td>...</td>\n",
       "      <td>1</td>\n",
       "      <td>0</td>\n",
       "      <td>1</td>\n",
       "      <td>0</td>\n",
       "      <td>0</td>\n",
       "      <td>1</td>\n",
       "      <td>0</td>\n",
       "      <td>0</td>\n",
       "      <td>1</td>\n",
       "      <td>0</td>\n",
       "    </tr>\n",
       "    <tr>\n",
       "      <th>1</th>\n",
       "      <td>67.0</td>\n",
       "      <td>115.0</td>\n",
       "      <td>564.0</td>\n",
       "      <td>160.0</td>\n",
       "      <td>1.6</td>\n",
       "      <td>0.0</td>\n",
       "      <td>1</td>\n",
       "      <td>1</td>\n",
       "      <td>0</td>\n",
       "      <td>0</td>\n",
       "      <td>...</td>\n",
       "      <td>1</td>\n",
       "      <td>0</td>\n",
       "      <td>1</td>\n",
       "      <td>0</td>\n",
       "      <td>0</td>\n",
       "      <td>1</td>\n",
       "      <td>0</td>\n",
       "      <td>0</td>\n",
       "      <td>0</td>\n",
       "      <td>1</td>\n",
       "    </tr>\n",
       "    <tr>\n",
       "      <th>2</th>\n",
       "      <td>57.0</td>\n",
       "      <td>124.0</td>\n",
       "      <td>261.0</td>\n",
       "      <td>141.0</td>\n",
       "      <td>0.3</td>\n",
       "      <td>0.0</td>\n",
       "      <td>2</td>\n",
       "      <td>0</td>\n",
       "      <td>1</td>\n",
       "      <td>0</td>\n",
       "      <td>...</td>\n",
       "      <td>0</td>\n",
       "      <td>1</td>\n",
       "      <td>1</td>\n",
       "      <td>0</td>\n",
       "      <td>0</td>\n",
       "      <td>0</td>\n",
       "      <td>1</td>\n",
       "      <td>0</td>\n",
       "      <td>0</td>\n",
       "      <td>1</td>\n",
       "    </tr>\n",
       "    <tr>\n",
       "      <th>3</th>\n",
       "      <td>64.0</td>\n",
       "      <td>128.0</td>\n",
       "      <td>263.0</td>\n",
       "      <td>105.0</td>\n",
       "      <td>0.2</td>\n",
       "      <td>1.0</td>\n",
       "      <td>1</td>\n",
       "      <td>0</td>\n",
       "      <td>1</td>\n",
       "      <td>1</td>\n",
       "      <td>...</td>\n",
       "      <td>0</td>\n",
       "      <td>1</td>\n",
       "      <td>0</td>\n",
       "      <td>1</td>\n",
       "      <td>0</td>\n",
       "      <td>1</td>\n",
       "      <td>0</td>\n",
       "      <td>0</td>\n",
       "      <td>0</td>\n",
       "      <td>1</td>\n",
       "    </tr>\n",
       "    <tr>\n",
       "      <th>4</th>\n",
       "      <td>74.0</td>\n",
       "      <td>120.0</td>\n",
       "      <td>269.0</td>\n",
       "      <td>121.0</td>\n",
       "      <td>0.2</td>\n",
       "      <td>1.0</td>\n",
       "      <td>1</td>\n",
       "      <td>1</td>\n",
       "      <td>0</td>\n",
       "      <td>0</td>\n",
       "      <td>...</td>\n",
       "      <td>1</td>\n",
       "      <td>0</td>\n",
       "      <td>0</td>\n",
       "      <td>1</td>\n",
       "      <td>0</td>\n",
       "      <td>0</td>\n",
       "      <td>1</td>\n",
       "      <td>0</td>\n",
       "      <td>1</td>\n",
       "      <td>0</td>\n",
       "    </tr>\n",
       "  </tbody>\n",
       "</table>\n",
       "<p>5 rows × 26 columns</p>\n",
       "</div>"
      ],
      "text/plain": [
       "    age  blood_p  serum  max_heart  oldpeak  vessel  normal  sex_female  \\\n",
       "0  70.0    130.0  322.0      109.0      2.4     3.0       2           0   \n",
       "1  67.0    115.0  564.0      160.0      1.6     0.0       1           1   \n",
       "2  57.0    124.0  261.0      141.0      0.3     0.0       2           0   \n",
       "3  64.0    128.0  263.0      105.0      0.2     1.0       1           0   \n",
       "4  74.0    120.0  269.0      121.0      0.2     1.0       1           1   \n",
       "\n",
       "   sex_male  chest_pain_asymptomatic  ...  \\\n",
       "0         1                        1  ...   \n",
       "1         0                        0  ...   \n",
       "2         1                        0  ...   \n",
       "3         1                        1  ...   \n",
       "4         0                        0  ...   \n",
       "\n",
       "   electro_left ventricular hypertrophy  electro_normal  angina_no  \\\n",
       "0                                     1               0          1   \n",
       "1                                     1               0          1   \n",
       "2                                     0               1          1   \n",
       "3                                     0               1          0   \n",
       "4                                     1               0          0   \n",
       "\n",
       "   angina_yes  slope_downsloping  slope_flat  slope_upsloping  \\\n",
       "0           0                  0           1                0   \n",
       "1           0                  0           1                0   \n",
       "2           0                  0           0                1   \n",
       "3           1                  0           1                0   \n",
       "4           1                  0           0                1   \n",
       "\n",
       "   thal_fixed defect  thal_normal  thal_reversable defect  \n",
       "0                  0            1                       0  \n",
       "1                  0            0                       1  \n",
       "2                  0            0                       1  \n",
       "3                  0            0                       1  \n",
       "4                  0            1                       0  \n",
       "\n",
       "[5 rows x 26 columns]"
      ]
     },
     "execution_count": 19,
     "metadata": {},
     "output_type": "execute_result"
    }
   ],
   "source": [
    "df = pd.get_dummies(df)\n",
    "df.head()"
   ]
  },
  {
   "cell_type": "markdown",
   "metadata": {},
   "source": [
    "## Predicción de la presión sanguínea\n",
    "\n",
    "Sabemos que una alta presión sanguínea es un buen indicador para estimar si el paciente posee una enfermedad, por ende intentaremos predecir la presión dada otras variables"
   ]
  },
  {
   "cell_type": "markdown",
   "metadata": {},
   "source": [
    "### Preparación de los datos\n",
    "\n",
    "Preparamos nuestro conjunto de datos para usar con el modelo de regresión lineal"
   ]
  },
  {
   "cell_type": "code",
   "execution_count": 20,
   "metadata": {},
   "outputs": [],
   "source": [
    "# Obtenemos nuestra etiqueta\n",
    "label = df.pop(\"normal\").values - 1\n",
    "presion = df.pop(\"blood_p\").values\n",
    "X_data = df.values"
   ]
  },
  {
   "cell_type": "markdown",
   "metadata": {},
   "source": [
    "### Creación conjunto de pruebas\n",
    "\n",
    "Para tener datos con los cuales probar nuestro modelo y entrenarlo debemos generar un conjunto con el trabajar"
   ]
  },
  {
   "cell_type": "code",
   "execution_count": 26,
   "metadata": {},
   "outputs": [
    {
     "name": "stdout",
     "output_type": "stream",
     "text": [
      "Entradas de entrenamiento: 184\n",
      "Entradas de prueba: 86\n"
     ]
    }
   ],
   "source": [
    "np.random.seed(0)\n",
    "# Vector de seleccion 30%\n",
    "mask_test = np.random.rand(X_data.shape[0]) < 0.30\n",
    "# Selección de datos de entrenamiento y pruebas\n",
    "X_train = X_data[~mask_test]\n",
    "X_test = X_data[mask_test]\n",
    "presion_train = presion[~mask_test]\n",
    "presion_test = presion[mask_test]\n",
    "label_train = label[~mask_test]\n",
    "label_test = label[mask_test]\n",
    "print(\"Entradas de entrenamiento:\", X_train.shape[0])\n",
    "print(\"Entradas de prueba:\", X_test.shape[0])"
   ]
  },
  {
   "cell_type": "markdown",
   "metadata": {},
   "source": [
    "### Estandarización de los datos\n",
    "\n",
    "Este paso es vital, ya que hace que nuestros datos sean consistentes y las comparaciones entre ellos sean relevantes"
   ]
  },
  {
   "cell_type": "code",
   "execution_count": 28,
   "metadata": {},
   "outputs": [],
   "source": [
    "from sklearn.preprocessing import StandardScaler\n",
    "# Estandarizador\n",
    "std = StandardScaler()\n",
    "std.fit(X_train)\n",
    "# Datos estandarizados\n",
    "Xstd_train = std.transform(X_train) \n",
    "Xstd_test = std.transform(X_test)"
   ]
  },
  {
   "cell_type": "markdown",
   "metadata": {},
   "source": [
    "### Regresión lineal\n",
    "\n",
    "Procedemos a ejecutar una regresión de mínimos cuadrados, con la cual buscamos predecir la presión sanguínea"
   ]
  },
  {
   "cell_type": "code",
   "execution_count": 29,
   "metadata": {},
   "outputs": [],
   "source": [
    "from sklearn.linear_model import LinearRegression\n",
    "model = LinearRegression(fit_intercept=True)\n",
    "model.fit(Xstd_train, presion_train)\n",
    "pred_train = model.predict(Xstd_train)\n",
    "pred_test = model.predict(Xstd_test)"
   ]
  },
  {
   "cell_type": "code",
   "execution_count": 63,
   "metadata": {},
   "outputs": [
    {
     "data": {
      "image/png": "[encoded data removed]",
      "text/plain": [
       "<Figure size 432x288 with 1 Axes>"
      ]
     },
     "metadata": {
      "needs_background": "light"
     },
     "output_type": "display_data"
    },
    {
     "data": {
      "image/png": "[encoded data removed]",
      "text/plain": [
       "<Figure size 432x288 with 1 Axes>"
      ]
     },
     "metadata": {
      "needs_background": "light"
     },
     "output_type": "display_data"
    }
   ],
   "source": [
    "# Grafico entrenamiento\n",
    "delta = pred_train - presion_train\n",
    "delta = list(map(abs,delta))\n",
    "i = 1\n",
    "sum = 0\n",
    "med = []\n",
    "for a in delta:\n",
    "    sum += a\n",
    "    med.append(sum/i)\n",
    "    i += 1\n",
    "plt.plot(delta,label=\"error absoluto\")\n",
    "plt.plot(med,label=\"media\")\n",
    "plt.xlabel(\"Dato\")\n",
    "plt.ylabel(\"Delta\")\n",
    "plt.title(\"Error de entrenamiento por dato [Absoluto]\")\n",
    "plt.legend()\n",
    "plt.show()\n",
    "# Grafico prueba\n",
    "delta = pred_test - presion_test\n",
    "delta = list(map(abs,delta))\n",
    "i = 1\n",
    "sum = 0\n",
    "med = []\n",
    "for a in delta:\n",
    "    sum += a\n",
    "    med.append(sum/i)\n",
    "    i += 1\n",
    "plt.plot(delta,label=\"error absoluto\")\n",
    "plt.plot(med,label=\"media\")\n",
    "plt.xlabel(\"Dato\")\n",
    "plt.ylabel(\"Delta\")\n",
    "plt.title(\"Error de prueba por dato [Absoluto]\")\n",
    "plt.legend()\n",
    "plt.show()"
   ]
  },
  {
   "cell_type": "markdown",
   "metadata": {},
   "source": [
    "Con los graficos de error podemos notar que obtenemos un delta  en la medicion de la presión sanguínea cercano a las 15 unidades (en ambos conjuntos), la cual es cercana a la desviación estándar del conjunto completo"
   ]
  },
  {
   "cell_type": "code",
   "execution_count": 76,
   "metadata": {},
   "outputs": [
    {
     "data": {
      "text/plain": [
       "array([0.        , 0.        , 0.        , 0.        , 0.        ,\n",
       "       0.        , 0.        , 0.        , 0.        , 0.        ,\n",
       "       0.        , 0.        , 0.        , 0.        , 0.        ,\n",
       "       0.        , 0.        , 0.        , 0.2       , 0.        ,\n",
       "       0.        , 0.28571429, 0.        , 0.13333333, 0.        ,\n",
       "       0.        , 0.        , 0.        , 0.        , 0.        ,\n",
       "       0.        , 0.        , 0.        , 0.        , 0.        ,\n",
       "       0.        , 0.        , 0.        , 0.        , 0.        ,\n",
       "       0.        , 0.        , 0.        , 0.        , 0.        ,\n",
       "       0.        , 0.        , 0.        ])"
      ]
     },
     "execution_count": 76,
     "metadata": {},
     "output_type": "execute_result"
    }
   ],
   "source": [
    "from sklearn.metrics import f1_score\n",
    "\n",
    "f1_score(presion_test,list(map(int,pred_test)),average=None)"
   ]
  }
 ],
 "metadata": {
  "kernelspec": {
   "display_name": "Python 3",
   "language": "python",
   "name": "python3"
  },
  "language_info": {
   "codemirror_mode": {
    "name": "ipython",
    "version": 3
   },
   "file_extension": ".py",
   "mimetype": "text/x-python",
   "name": "python",
   "nbconvert_exporter": "python",
   "pygments_lexer": "ipython3",
   "version": "3.7.3"
  }
 },
 "nbformat": 4,
 "nbformat_minor": 2
}
